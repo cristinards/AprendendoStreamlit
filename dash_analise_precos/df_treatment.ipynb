{
 "cells": [
  {
   "cell_type": "code",
   "execution_count": 1,
   "metadata": {},
   "outputs": [],
   "source": [
    "import pandas as pd"
   ]
  },
  {
   "cell_type": "code",
   "execution_count": 2,
   "metadata": {},
   "outputs": [],
   "source": [
    "df = pd.read_csv('data_gas.csv')"
   ]
  },
  {
   "cell_type": "code",
   "execution_count": 3,
   "metadata": {},
   "outputs": [],
   "source": [
    "df.rename(columns={' DATA INICIAL': 'DATA INICIAL'}, inplace=True)\n",
    "\n",
    "# Estabelecendo datas, simplificando-as estabelecendo a ordem do DF por elas\n",
    "df['DATA INICIAL'] = pd.to_datetime(df['DATA INICIAL'])\n",
    "df['DATA FINAL'] = pd.to_datetime(df['DATA FINAL'])\n",
    "df['DATA MEDIA'] = ((df['DATA FINAL'] - df['DATA INICIAL'])/2) + df['DATA INICIAL']"
   ]
  },
  {
   "cell_type": "code",
   "execution_count": 4,
   "metadata": {},
   "outputs": [],
   "source": [
    "df = df.sort_values(by='DATA MEDIA',ascending=True)\n",
    "df.rename(columns = {'DATA MEDIA':'DATA'}, inplace = True)\n",
    "df.rename(columns = {'PREÇO MÉDIO REVENDA': 'VALOR REVENDA (R$/L)'}, inplace=True)"
   ]
  },
  {
   "cell_type": "code",
   "execution_count": 5,
   "metadata": {},
   "outputs": [],
   "source": [
    "# Criando uma coluna de Ano\n",
    "df[\"ANO\"] = df[\"DATA\"].apply(lambda x: str(x.year))\n",
    "\n",
    "# Resetando o index por uma questão organizacional\n",
    "df = df.reset_index()\n",
    "\n",
    "# Filtrando pois só falaremos da gasolina comum\n",
    "df = df[df.PRODUTO == 'GASOLINA COMUM']"
   ]
  },
  {
   "cell_type": "code",
   "execution_count": 6,
   "metadata": {},
   "outputs": [],
   "source": [
    "# Excluindo colunas que não usaremos\n",
    "df.drop(['UNIDADE DE MEDIDA', 'COEF DE VARIAÇÃO REVENDA', 'COEF DE VARIAÇÃO DISTRIBUIÇÃO', \n",
    "    'NÚMERO DE POSTOS PESQUISADOS', 'DATA INICIAL', 'DATA FINAL', 'PREÇO MÁXIMO DISTRIBUIÇÃO', 'PREÇO MÍNIMO DISTRIBUIÇÃO', \n",
    "    'DESVIO PADRÃO DISTRIBUIÇÃO', 'MARGEM MÉDIA REVENDA', 'PREÇO MÍNIMO REVENDA', 'PREÇO MÁXIMO REVENDA', 'DESVIO PADRÃO REVENDA', \n",
    "    'PRODUTO', 'PREÇO MÉDIO DISTRIBUIÇÃO'], inplace=True, axis=1)"
   ]
  },
  {
   "cell_type": "code",
   "execution_count": 8,
   "metadata": {},
   "outputs": [
    {
     "data": {
      "text/html": [
       "<div>\n",
       "<style scoped>\n",
       "    .dataframe tbody tr th:only-of-type {\n",
       "        vertical-align: middle;\n",
       "    }\n",
       "\n",
       "    .dataframe tbody tr th {\n",
       "        vertical-align: top;\n",
       "    }\n",
       "\n",
       "    .dataframe thead th {\n",
       "        text-align: right;\n",
       "    }\n",
       "</style>\n",
       "<table border=\"1\" class=\"dataframe\">\n",
       "  <thead>\n",
       "    <tr style=\"text-align: right;\">\n",
       "      <th></th>\n",
       "      <th>level_0</th>\n",
       "      <th>index</th>\n",
       "      <th>REGIÃO</th>\n",
       "      <th>ESTADO</th>\n",
       "      <th>VALOR REVENDA (R$/L)</th>\n",
       "      <th>DATA</th>\n",
       "      <th>ANO</th>\n",
       "    </tr>\n",
       "  </thead>\n",
       "  <tbody>\n",
       "    <tr>\n",
       "      <th>0</th>\n",
       "      <td>1</td>\n",
       "      <td>12090</td>\n",
       "      <td>SUL</td>\n",
       "      <td>SANTA CATARINA</td>\n",
       "      <td>2.070</td>\n",
       "      <td>2004-05-12</td>\n",
       "      <td>2004</td>\n",
       "    </tr>\n",
       "    <tr>\n",
       "      <th>1</th>\n",
       "      <td>10</td>\n",
       "      <td>12089</td>\n",
       "      <td>SUL</td>\n",
       "      <td>RIO GRANDE DO SUL</td>\n",
       "      <td>2.135</td>\n",
       "      <td>2004-05-12</td>\n",
       "      <td>2004</td>\n",
       "    </tr>\n",
       "    <tr>\n",
       "      <th>2</th>\n",
       "      <td>23</td>\n",
       "      <td>12088</td>\n",
       "      <td>SUL</td>\n",
       "      <td>PARANA</td>\n",
       "      <td>1.966</td>\n",
       "      <td>2004-05-12</td>\n",
       "      <td>2004</td>\n",
       "    </tr>\n",
       "    <tr>\n",
       "      <th>3</th>\n",
       "      <td>24</td>\n",
       "      <td>12086</td>\n",
       "      <td>SUDESTE</td>\n",
       "      <td>RIO DE JANEIRO</td>\n",
       "      <td>2.045</td>\n",
       "      <td>2004-05-12</td>\n",
       "      <td>2004</td>\n",
       "    </tr>\n",
       "    <tr>\n",
       "      <th>4</th>\n",
       "      <td>25</td>\n",
       "      <td>12066</td>\n",
       "      <td>CENTRO OESTE</td>\n",
       "      <td>MATO GROSSO</td>\n",
       "      <td>2.358</td>\n",
       "      <td>2004-05-12</td>\n",
       "      <td>2004</td>\n",
       "    </tr>\n",
       "  </tbody>\n",
       "</table>\n",
       "</div>"
      ],
      "text/plain": [
       "   level_0  index        REGIÃO             ESTADO  VALOR REVENDA (R$/L)  \\\n",
       "0        1  12090           SUL     SANTA CATARINA                 2.070   \n",
       "1       10  12089           SUL  RIO GRANDE DO SUL                 2.135   \n",
       "2       23  12088           SUL             PARANA                 1.966   \n",
       "3       24  12086       SUDESTE     RIO DE JANEIRO                 2.045   \n",
       "4       25  12066  CENTRO OESTE        MATO GROSSO                 2.358   \n",
       "\n",
       "        DATA   ANO  \n",
       "0 2004-05-12  2004  \n",
       "1 2004-05-12  2004  \n",
       "2 2004-05-12  2004  \n",
       "3 2004-05-12  2004  \n",
       "4 2004-05-12  2004  "
      ]
     },
     "execution_count": 8,
     "metadata": {},
     "output_type": "execute_result"
    }
   ],
   "source": [
    "df = df.reset_index()\n",
    "df.head()"
   ]
  },
  {
   "cell_type": "code",
   "execution_count": 9,
   "metadata": {},
   "outputs": [
    {
     "data": {
      "text/html": [
       "<div>\n",
       "<style scoped>\n",
       "    .dataframe tbody tr th:only-of-type {\n",
       "        vertical-align: middle;\n",
       "    }\n",
       "\n",
       "    .dataframe tbody tr th {\n",
       "        vertical-align: top;\n",
       "    }\n",
       "\n",
       "    .dataframe thead th {\n",
       "        text-align: right;\n",
       "    }\n",
       "</style>\n",
       "<table border=\"1\" class=\"dataframe\">\n",
       "  <thead>\n",
       "    <tr style=\"text-align: right;\">\n",
       "      <th></th>\n",
       "      <th>REGIÃO</th>\n",
       "      <th>ESTADO</th>\n",
       "      <th>VALOR REVENDA (R$/L)</th>\n",
       "      <th>DATA</th>\n",
       "      <th>ANO</th>\n",
       "    </tr>\n",
       "  </thead>\n",
       "  <tbody>\n",
       "    <tr>\n",
       "      <th>0</th>\n",
       "      <td>SUL</td>\n",
       "      <td>SANTA CATARINA</td>\n",
       "      <td>2.070</td>\n",
       "      <td>2004-05-12</td>\n",
       "      <td>2004</td>\n",
       "    </tr>\n",
       "    <tr>\n",
       "      <th>1</th>\n",
       "      <td>SUL</td>\n",
       "      <td>RIO GRANDE DO SUL</td>\n",
       "      <td>2.135</td>\n",
       "      <td>2004-05-12</td>\n",
       "      <td>2004</td>\n",
       "    </tr>\n",
       "    <tr>\n",
       "      <th>2</th>\n",
       "      <td>SUL</td>\n",
       "      <td>PARANA</td>\n",
       "      <td>1.966</td>\n",
       "      <td>2004-05-12</td>\n",
       "      <td>2004</td>\n",
       "    </tr>\n",
       "    <tr>\n",
       "      <th>3</th>\n",
       "      <td>SUDESTE</td>\n",
       "      <td>RIO DE JANEIRO</td>\n",
       "      <td>2.045</td>\n",
       "      <td>2004-05-12</td>\n",
       "      <td>2004</td>\n",
       "    </tr>\n",
       "    <tr>\n",
       "      <th>4</th>\n",
       "      <td>CENTRO OESTE</td>\n",
       "      <td>MATO GROSSO</td>\n",
       "      <td>2.358</td>\n",
       "      <td>2004-05-12</td>\n",
       "      <td>2004</td>\n",
       "    </tr>\n",
       "  </tbody>\n",
       "</table>\n",
       "</div>"
      ],
      "text/plain": [
       "         REGIÃO             ESTADO  VALOR REVENDA (R$/L)       DATA   ANO\n",
       "0           SUL     SANTA CATARINA                 2.070 2004-05-12  2004\n",
       "1           SUL  RIO GRANDE DO SUL                 2.135 2004-05-12  2004\n",
       "2           SUL             PARANA                 1.966 2004-05-12  2004\n",
       "3       SUDESTE     RIO DE JANEIRO                 2.045 2004-05-12  2004\n",
       "4  CENTRO OESTE        MATO GROSSO                 2.358 2004-05-12  2004"
      ]
     },
     "execution_count": 9,
     "metadata": {},
     "output_type": "execute_result"
    }
   ],
   "source": [
    "df.drop(['level_0', 'index'], inplace=True, axis=1)\n",
    "df.head()"
   ]
  },
  {
   "cell_type": "code",
   "execution_count": 10,
   "metadata": {},
   "outputs": [],
   "source": [
    "df.to_csv('data_clean.csv')"
   ]
  },
  {
   "cell_type": "code",
   "execution_count": null,
   "metadata": {},
   "outputs": [],
   "source": []
  }
 ],
 "metadata": {
  "kernelspec": {
   "display_name": "Python 3",
   "language": "python",
   "name": "python3"
  },
  "language_info": {
   "codemirror_mode": {
    "name": "ipython",
    "version": 3
   },
   "file_extension": ".py",
   "mimetype": "text/x-python",
   "name": "python",
   "nbconvert_exporter": "python",
   "pygments_lexer": "ipython3",
   "version": "3.10.4"
  },
  "orig_nbformat": 4
 },
 "nbformat": 4,
 "nbformat_minor": 2
}
